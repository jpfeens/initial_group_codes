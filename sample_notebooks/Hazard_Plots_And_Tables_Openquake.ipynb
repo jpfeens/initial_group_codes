{
 "cells": [
  {
   "cell_type": "code",
   "execution_count": 1,
   "metadata": {
    "ExecuteTime": {
     "end_time": "2021-01-31T23:39:22.539320Z",
     "start_time": "2021-01-31T23:39:22.525359Z"
    }
   },
   "outputs": [],
   "source": [
    "# Plotting PSHA hazard and uhrs results from OpenQuake\n",
    "#\n",
    "# -------------------------\n",
    "# Author: Erin Todd  \n",
    "# Last Edited: 1 February 2021 (E.Todd)\n",
    "# --------------------------\n",
    "\n",
    "\n",
    "# !!! IF YOU UPDATE THIS NOTEBOOK, PLEASE UPDATE THE INFORMATION ABOVE!!!"
   ]
  },
  {
   "cell_type": "code",
   "execution_count": 2,
   "metadata": {
    "ExecuteTime": {
     "end_time": "2021-01-31T23:39:22.555277Z",
     "start_time": "2021-01-31T23:39:22.542312Z"
    }
   },
   "outputs": [
    {
     "name": "stdout",
     "output_type": "stream",
     "text": [
      "['C:\\\\Users\\\\ertodd\\\\Documents\\\\GitHub\\\\initial_group_codes\\\\python_tools', 'C:\\\\Users\\\\ertodd\\\\Documents\\\\GitHub\\\\initial_group_codes\\\\sample_notebooks', 'C:\\\\Users\\\\ertodd\\\\Anaconda3\\\\envs\\\\deathstar\\\\python38.zip', 'C:\\\\Users\\\\ertodd\\\\Anaconda3\\\\envs\\\\deathstar\\\\DLLs', 'C:\\\\Users\\\\ertodd\\\\Anaconda3\\\\envs\\\\deathstar\\\\lib', 'C:\\\\Users\\\\ertodd\\\\Anaconda3\\\\envs\\\\deathstar', '', 'C:\\\\Users\\\\ertodd\\\\Anaconda3\\\\envs\\\\deathstar\\\\lib\\\\site-packages', 'C:\\\\Users\\\\ertodd\\\\Anaconda3\\\\envs\\\\deathstar\\\\lib\\\\site-packages\\\\win32', 'C:\\\\Users\\\\ertodd\\\\Anaconda3\\\\envs\\\\deathstar\\\\lib\\\\site-packages\\\\win32\\\\lib', 'C:\\\\Users\\\\ertodd\\\\Anaconda3\\\\envs\\\\deathstar\\\\lib\\\\site-packages\\\\Pythonwin', 'C:\\\\Users\\\\ertodd\\\\Anaconda3\\\\envs\\\\deathstar\\\\lib\\\\site-packages\\\\IPython\\\\extensions', 'C:\\\\Users\\\\ertodd\\\\.ipython']\n"
     ]
    }
   ],
   "source": [
    "import os\n",
    "import sys\n",
    "\n",
    "# Get user and OneDrive directories\n",
    "userdir = os.environ['USERPROFILE']\n",
    "onedrive_folder = os.environ['ONEDRIVE']\n",
    "\n",
    "# Either copy this file structure for your GitHub repo and add your name to the list, \n",
    "# or add a branch with your computer username and path to your clone of the repo.\n",
    "if os.environ['USERNAME'].lower() in ['ertodd']:\n",
    "    my_data_dir = os.path.join(onedrive_folder,'Data')\n",
    "    python_tools_dir = os.path.join(userdir,'Documents','GitHub', 'initial_group_codes','python_tools')                  \n",
    "else:\n",
    "    print('Either copy this file structure for your GitHub repo and add your name to the list, or add a branch with your computer username and path to your clone of the repo.')\n",
    "\n",
    "# Add the github repo to your system path for easy importation - if anyone knows how to properly do this with __init__.py files, please do so and remove these lines. I've been stuck on that...\n",
    "if python_tools_dir not in sys.path:\n",
    "    sys.path.insert(0,python_tools_dir)\n",
    "print(sys.path)"
   ]
  },
  {
   "cell_type": "markdown",
   "metadata": {},
   "source": [
    "# Import Modules"
   ]
  },
  {
   "cell_type": "code",
   "execution_count": 3,
   "metadata": {
    "ExecuteTime": {
     "end_time": "2021-01-31T23:39:23.631687Z",
     "start_time": "2021-01-31T23:39:22.558271Z"
    }
   },
   "outputs": [],
   "source": [
    "import pandas as pd\n",
    "import numpy as np \n",
    "import matplotlib.pyplot as plt\n",
    "\n",
    "#from numpy import array, zeros_like, where, unique\n",
    "#from sys import argv\n",
    "#from os import path, mkdir, sep\n",
    "#import glob\n",
    "#from pathlib import Path\n",
    "#from shutil import copy\n",
    "#import math\n",
    "\n",
    "\n",
    "#import pandas and ipython packages\n",
    "from IPython.core.display import HTML\n",
    "pd.options.display.max_columns = None"
   ]
  },
  {
   "cell_type": "code",
   "execution_count": 4,
   "metadata": {
    "ExecuteTime": {
     "end_time": "2021-01-31T23:39:23.646686Z",
     "start_time": "2021-01-31T23:39:23.631687Z"
    }
   },
   "outputs": [],
   "source": [
    "from misc_tools import yrp2poe, poe2yrp\n",
    "from plotting_tools import plot_mean_hazard, plot_fractile_curves, plot_mean_uhrs_spectra, plot_uhrs_by_return_period"
   ]
  },
  {
   "cell_type": "markdown",
   "metadata": {},
   "source": [
    "# Initialise project details"
   ]
  },
  {
   "cell_type": "code",
   "execution_count": 5,
   "metadata": {
    "ExecuteTime": {
     "end_time": "2021-01-31T23:39:23.661679Z",
     "start_time": "2021-01-31T23:39:23.648680Z"
    }
   },
   "outputs": [],
   "source": [
    "# Set project directories\n",
    "topdir = os.path.join(userdir, 'Golder Associates','20137760, GFA GSM Cell 1 2 3 Review - 010 SHA')\n",
    "results_topdir = os.path.join(topdir, 'OQ_model_results')\n",
    "#source_model_dir = os.path.join(topdir,'source_model_files')\n",
    "#valdir = os.path.join(topdir,'OQ_validation')\n",
    "report_dir = os.path.join(topdir,'draft_report')\n",
    "\n",
    "# Project name\n",
    "proj_name = 'Granny_Smith'\n",
    "\n",
    "# site location\n",
    "sLat = -28.801346\n",
    "sLon = 122.423595"
   ]
  },
  {
   "cell_type": "code",
   "execution_count": 6,
   "metadata": {
    "ExecuteTime": {
     "end_time": "2021-01-31T23:39:23.677630Z",
     "start_time": "2021-01-31T23:39:23.663642Z"
    }
   },
   "outputs": [],
   "source": [
    "# OpenQuake Run number and directory containing results within `topdir/OQ_model_results/run_dir_num`\n",
    "run_ref_num = '5239'\n",
    "run_dir_num = 'Run9'"
   ]
  },
  {
   "cell_type": "markdown",
   "metadata": {},
   "source": [
    "## Initialise model inputs"
   ]
  },
  {
   "cell_type": "code",
   "execution_count": null,
   "metadata": {
    "ExecuteTime": {
     "end_time": "2021-01-28T22:28:50.339972Z",
     "start_time": "2021-01-28T22:28:50.290104Z"
    },
    "deletable": false,
    "editable": false,
    "run_control": {
     "frozen": true
    }
   },
   "outputs": [],
   "source": [
    "# {source model type : {sub-area label : [[filename1, weight],[filename2, weight]]}}\n",
    "source_models = {'uniform_area' : {'AUS6' : [['AUS6_collapsed_Cut_MFDedit_wFaultsN.xml', 0.0785],['AUS6_collapsed_Cut_MFDedit_wFaultsR.xml', 0.0785]], \n",
    "                                   'DIM-AUS' : [['DIMAUS_collapsed_Cut_MFDedit_wFaultsN.xml', 0.096],['DIMAUS_collapsed_Cut_MFDedit_wFaultsR.xml', 0.096]], \n",
    "                                   'NSHM12' : [['NSHA13_collapsed_Cut_MFDedit_wFaultsN.xml', 0.1735],['NSHA13_collapsed_Cut_MFDedit_wFaultsR.xml', 0.1735]], \n",
    "                                   'Neotectonic Domains' : [['Domains_collapsed_Cut_MFDedit_wFaultsN.xml', 0.046],['Domains_collapsed_Cut_MFDedit_wFaultsR.xml', 0.046]], \n",
    "                                   'Leonard 08' : [['Leonard2008_collapsed_Cut_MFDedit_wFaultsN.xml', 0.0265],['Leonard2008_collapsed_Cut_MFDedit_wFaultsR.xml', 0.0265]], \n",
    "                                   'NSHM12 Background' : [['NSHA13_BACKGROUND_collapsed_Cut_MFDedit_wFaultsN.xml', 0.018],['NSHA13_BACKGROUND_collapsed_Cut_MFDedit_wFaultsR.xml', 0.018]], \n",
    "                                   'Sinadinovski and McCue' : [['SIN_MCC_collapsed_Cut_MFDedit_wFaultsN.xml', 0.0095],['SIN_MCC_collapsed_Cut_MFDedit_wFaultsR.xml', 0.0095]], \n",
    "                                   'ARUP Background' : [['ARUP_Background_collapsed_Cut_MFDedit_wFaultsN.xml', 0.026],['ARUP_Background_collapsed_Cut_MFDedit_wFaultsR.xml', 0.026]], \n",
    "                                   'ARUP' : [['ARUP_collapsed_Cut_MFDedit_wFaultsN.xml', 0.026],['ARUP_collapsed_Cut_MFDedit_wFaultsR.xml', 0.026]]}}\n",
    "\n",
    "# {GMM label : [[tectonic_region_type1, name, weight], [tectonic_region_type2, name, weight]]}\n",
    "gmm_nsha18 = {'Atkinson and Boore (2006)' : [['Cratonic','AtkinsonBoore2006',0.515]],\n",
    "              'Atkinson and Boore (2006) modified in Atkinson and Boore (2011)' : [['Cratonic','AtkinsonBoore2006Modified2011',0.485]]}"
   ]
  },
  {
   "cell_type": "code",
   "execution_count": null,
   "metadata": {
    "ExecuteTime": {
     "end_time": "2021-01-28T22:28:50.386845Z",
     "start_time": "2021-01-28T22:28:50.352940Z"
    },
    "deletable": false,
    "editable": false,
    "run_control": {
     "frozen": true
    }
   },
   "outputs": [],
   "source": [
    "# Check that source_model weights = 1\n",
    "\n",
    "the_weights = []    \n",
    "for sm_type in source_models.keys():\n",
    "    for sm_name,sm_details in source_models[sm_type].items():\n",
    "        # For Granny Smith, there are 2 elements in each sub source model\n",
    "        for details in sm_details:\n",
    "            the_weights.append(details[1])\n",
    "sum_of_weights = np.sum(np.asarray(the_weights))\n",
    "if sum_of_weights != 1.0:\n",
    "    print('Weights do not equal 1.0. Check again!')"
   ]
  },
  {
   "cell_type": "markdown",
   "metadata": {},
   "source": [
    "## Initialise model run details"
   ]
  },
  {
   "cell_type": "code",
   "execution_count": 7,
   "metadata": {
    "ExecuteTime": {
     "end_time": "2021-01-31T23:39:23.692599Z",
     "start_time": "2021-01-31T23:39:23.679598Z"
    }
   },
   "outputs": [],
   "source": [
    "modelrun_dir = os.path.join(results_topdir,run_dir_num)\n",
    "modelrun_results_dir = os.path.join(modelrun_dir,'results')\n",
    "modelrun_figure_dir = os.path.join(modelrun_dir,'figures')\n",
    "# Make directories if they don't exist\n",
    "if not os.path.isdir(modelrun_results_dir):\n",
    "    os.mkdir(modelrun_results_dir)\n",
    "elif not os.path.isdir(modelrun_figure_dir):\n",
    "    os.mkdir(modelrun_figure_dir)"
   ]
  },
  {
   "cell_type": "code",
   "execution_count": 8,
   "metadata": {
    "ExecuteTime": {
     "end_time": "2021-01-31T23:39:23.708548Z",
     "start_time": "2021-01-31T23:39:23.696553Z"
    }
   },
   "outputs": [],
   "source": [
    "#job_ini_filename = 'mag_tsf_job.ini'\n",
    "#job_ini_filename = 'granny_smith_job.ini'\n",
    "realisation_output_filename = 'realizations_'+run_ref_num+'.csv'\n",
    "#source_model_branch_filename = 'nsha18_source_model_logic_tree.xml'\n",
    "#gmm_logic_tree_filename = 'nsha18_simplified_ground_motion_logic_tree.xml'"
   ]
  },
  {
   "cell_type": "code",
   "execution_count": 9,
   "metadata": {
    "ExecuteTime": {
     "end_time": "2021-01-31T23:39:23.724478Z",
     "start_time": "2021-01-31T23:39:23.711513Z"
    }
   },
   "outputs": [],
   "source": [
    "# Set desired return periods, probabilities of exceedence, and quantiles\n",
    "return_periods = {#'475' : ['0.1', 'green', '1:475 AEP'],\n",
    "                 #'1000' : ['0.04877', 'grey', '1,000yr'], \n",
    "                 '2475' : ['0.02', 'black', 'OBE'], \n",
    "                 '5000' : ['0.00995', 'blue', 'SEE'],\n",
    "                 '10000' : ['0.00499', 'purple', 'PCE']\n",
    "                 }\n",
    "\n",
    "\n",
    "fractile_hazard_curves = {'5' : ['0.05', 'dashdot', 'black'], \n",
    "                          '15' : ['0.15', (0, (3, 5, 1, 5, 1, 5)), 'black'], \n",
    "                          '50' : ['0.5', (0, (5, 10)), 'black'], \n",
    "                          'mean' : ['mean', 'solid', 'red'],\n",
    "                          '85' : ['0.85', 'dashed','black'], \n",
    "                          '95' : ['0.95', 'dotted', 'black']\n",
    "                        }\n",
    "\n",
    "desired_poes_validation = ['0.1','0.02']\n",
    "\n",
    "trts = ['cratonic']\n",
    "\n",
    "plotting_periods = {'PGA' : 'PGA', \n",
    "                    '0.4 s' : 'SA(0.4)',\n",
    "                    '0.75 s' : 'SA(0.75)', \n",
    "                    '2.0 s' : 'SA(2.0)'}\n",
    "\n",
    "#spectral_periods = ['PGA','SA(0.1)','SA(0.2)','SA(0.3)','SA(0.4)', 'SA(0.5)', 'SA(0.75)','SA(1.0)','SA(1.5)','SA(2.0)','SA(4.0)']\n",
    "nat_period = ['SA(0.4)','SA(0.75)']\n",
    "\n",
    "investigation_time = 50"
   ]
  },
  {
   "cell_type": "markdown",
   "metadata": {},
   "source": [
    "# Print AEP and POE for reference"
   ]
  },
  {
   "cell_type": "code",
   "execution_count": 10,
   "metadata": {
    "ExecuteTime": {
     "end_time": "2021-01-31T23:39:23.740435Z",
     "start_time": "2021-01-31T23:39:23.728467Z"
    },
    "scrolled": true
   },
   "outputs": [
    {
     "name": "stdout",
     "output_type": "stream",
     "text": [
      "[0.1, 0.04877, 0.02469, 0.02, 0.00995, 0.00499]\n",
      "[475, 1000, 2000, 2475, 5000, 10000]\n"
     ]
    }
   ],
   "source": [
    "yrp_list = [474.55, 1000, 2000, 2475, 5000, 10000]\n",
    "investigation_time = 50\n",
    "poe_list = yrp2poe(yrp_list, investigation_time)\n",
    "print(poe_list)\n",
    "\n",
    "poe_list = [0.1, 0.04877, 0.02469, 0.02, 0.00995, 0.00499]\n",
    "yrps = poe2yrp(poe_list, investigation_time)\n",
    "print(yrps)"
   ]
  },
  {
   "cell_type": "markdown",
   "metadata": {},
   "source": [
    "# Check for OpenQuake realisation and full report output files"
   ]
  },
  {
   "cell_type": "code",
   "execution_count": 11,
   "metadata": {
    "ExecuteTime": {
     "end_time": "2021-01-31T23:39:23.756412Z",
     "start_time": "2021-01-31T23:39:23.742432Z"
    },
    "scrolled": true
   },
   "outputs": [
    {
     "name": "stdout",
     "output_type": "stream",
     "text": [
      "Run this from the computer used for the calculations.\n",
      "\n",
      "\n",
      "cd C:\\Users\\ertodd\\Golder Associates\\20137760, GFA GSM Cell 1 2 3 Review - 010 SHA\\OQ_model_results\\Run9\\results \n",
      "\n",
      "oq export realizations 5239 --exports csv && oq export fullreport 5239 --exports rst\n"
     ]
    }
   ],
   "source": [
    "print('Run this from the computer used for the calculations.\\n\\n')\n",
    "print('cd',modelrun_results_dir,'\\n')\n",
    "print('oq export realizations '+run_ref_num+' --exports csv && oq export fullreport '+run_ref_num+' --exports rst')\n"
   ]
  },
  {
   "cell_type": "markdown",
   "metadata": {},
   "source": [
    "# Plot Hazard Curves"
   ]
  },
  {
   "cell_type": "markdown",
   "metadata": {},
   "source": [
    "## Plot Mean Hazard Curves for desired periods"
   ]
  },
  {
   "cell_type": "code",
   "execution_count": 14,
   "metadata": {
    "ExecuteTime": {
     "end_time": "2021-01-31T23:40:07.099191Z",
     "start_time": "2021-01-31T23:40:03.991973Z"
    },
    "scrolled": false
   },
   "outputs": [
    {
     "name": "stdout",
     "output_type": "stream",
     "text": [
      "Some optional parameters are missing and can be set:  {'legend_title', 'legend_ftsize'}\n"
     ]
    },
    {
     "data": {
      "image/png": "[encoded data removed]",
      "text/plain": [
       "<Figure size 720x864 with 1 Axes>"
      ]
     },
     "metadata": {
      "needs_background": "light"
     },
     "output_type": "display_data"
    }
   ],
   "source": [
    "plot_parameters = {'output_format' : 'openquake',\n",
    "                   'OQrunnum' : run_ref_num,\n",
    "                   'IMTs_to_plot' : plotting_periods.values(),\n",
    "                   'IMT_labels' : plotting_periods.keys(),\n",
    "                   'ftsize' : 20, \n",
    "                   'figsize' : [10,12],\n",
    "                   'axis_bounds' : [0.01,2,0.00001,0.1], \n",
    "                   'yrp_label_position' : 0.015,\n",
    "                   'grid_on' : True,\n",
    "                   'x_ticks' : [0.01,0.1,1], \n",
    "                   'x_tick_labels' : [0.01,0.1,1], \n",
    "                   'y_ticks' : [0.00001,0.0001,0.001,0.01,0.1], \n",
    "                   'xlabel' : 'Spectral Acceleration (g)', \n",
    "                   'ylabel' : 'Annual Exceedence Probability',\n",
    "                   'legend_loc' : 'upper right',\n",
    "                   'colour_map' : 'jet', \n",
    "                   'plotsave' : True, \n",
    "                   'savedir' : modelrun_figure_dir}\n",
    "\n",
    "\n",
    "plot_mean_hazard(plot_parameters, modelrun_results_dir, return_periods)"
   ]
  },
  {
   "cell_type": "markdown",
   "metadata": {},
   "source": [
    "# Plot Quantile Curve (files like qc)"
   ]
  },
  {
   "cell_type": "code",
   "execution_count": 18,
   "metadata": {
    "ExecuteTime": {
     "end_time": "2021-02-01T00:01:17.835013Z",
     "start_time": "2021-02-01T00:01:10.515462Z"
    },
    "scrolled": false
   },
   "outputs": [
    {
     "name": "stdout",
     "output_type": "stream",
     "text": [
      "Some optional parameters are missing and can be set:  {'legend_ftsize'}\n",
      "Some optional parameters are missing and can be set:  {'legend_ftsize'}\n"
     ]
    },
    {
     "data": {
      "image/png": "[encoded data removed]",
      "text/plain": [
       "<Figure size 720x864 with 1 Axes>"
      ]
     },
     "metadata": {
      "needs_background": "light"
     },
     "output_type": "display_data"
    },
    {
     "data": {
      "image/png": "[encoded data removed]",
      "text/plain": [
       "<Figure size 720x864 with 1 Axes>"
      ]
     },
     "metadata": {
      "needs_background": "light"
     },
     "output_type": "display_data"
    }
   ],
   "source": [
    "plot_parameters = {'output_format' : 'openquake',\n",
    "                   'OQrunnum' : run_ref_num,\n",
    "                   'ftsize' : 20, \n",
    "                   'figsize' : [10,12],\n",
    "                   'axis_bounds' : [0.01,1,0.00001,0.1], \n",
    "                   'yrp_label_position' : 0.015,\n",
    "                   'grid_on' : True,\n",
    "                   'x_ticks' : [0.01,0.1,1], \n",
    "                   'x_tick_labels' : [0.01,0.1,1], \n",
    "                   'y_ticks' : [0.00001,0.0001,0.001,0.01,0.1], \n",
    "                   'xlabel' : 'Spectral Acceleration (g)', \n",
    "                   'ylabel' : 'Annual Exceedence Probability',\n",
    "                   'legend_loc' : 'upper right',\n",
    "                   'plotsave' : True, \n",
    "                   'savedir' : modelrun_figure_dir}\n",
    "\n",
    "for natp in nat_period:\n",
    "    if natp.startswith('SA('):\n",
    "        natp_label = natp.replace('SA(','').replace(')',' s')\n",
    "    else:\n",
    "        natp_label = natp\n",
    "        \n",
    "    # Assign IMT to plot and label to dictionary\n",
    "    plot_parameters['IMTs_to_plot'] = natp\n",
    "    plot_parameters['IMT_labels'] = natp_label,\n",
    "    plot_parameters['legend_title'] = 'Hazard Fractiles for ' + natp_label\n",
    "    \n",
    "    #Create plot for each period desired\n",
    "    plot_fractile_curves(plot_parameters, modelrun_results_dir, fractile_hazard_curves, return_periods)"
   ]
  },
  {
   "cell_type": "markdown",
   "metadata": {
    "ExecuteTime": {
     "end_time": "2020-11-01T23:19:40.948185Z",
     "start_time": "2020-11-01T23:19:40.935220Z"
    }
   },
   "source": [
    "# Plot GMM Realisations\n",
    "\n",
    "## First, get the gmm details for cratonic and non-cratonic regions for each realisation"
   ]
  },
  {
   "cell_type": "code",
   "execution_count": null,
   "metadata": {
    "ExecuteTime": {
     "end_time": "2021-01-31T23:39:27.385689Z",
     "start_time": "2021-01-31T23:39:22.579Z"
    }
   },
   "outputs": [],
   "source": [
    "os.chdir(results_topdir)\n",
    "df_realisation = pd.DataFrame()\n",
    "df_realisation = pd.read_csv(realisation_output_filename)\n",
    "\n",
    "#df_realisation['ordinal'] = [\"%03d\" % i for i in df_realisation['ordinal'].tolist()]#OQ v. 3.7\n",
    "df_realisation['rlz_id'] = [\"%03d\" % i for i in df_realisation['rlz_id'].tolist()] #OQ v. 3.8 & 3.9 & 3.10\n",
    "\n",
    "if 'cratonic' in trts:\n",
    "    df_realisation['cratonic_gmm'] = [x.split('~')[1].split('_')[0] for x in df_realisation['branch_path'].tolist()]\n",
    "elif 'non-cratonic' in trts:\n",
    "    df_realisation['non_cratonic_gmm'] = [x.split('~')[1].split('_')[1] for x in df_realisation['branch_path'].tolist()]\n",
    "    \n",
    "df_realisation['branch_path'] = [x.split('~')[0] for x in df_realisation['branch_path'].tolist()]\n",
    "df_realisation.rename(columns={'weight': 'rlz_weight'},inplace=True)\n",
    "\n",
    "num_realisations = len(df_realisation)\n",
    "display(df_realisation)\n",
    "\n",
    "if np.around(np.sum(df_realisation['rlz_weight'].to_numpy()),decimals=6) != 1.0:\n",
    "    print('rlz weights to 6 decimal places do not sum to 1.')\n",
    "    print(np.sum(df_realisation['rlz_weight'].to_numpy()))"
   ]
  },
  {
   "cell_type": "markdown",
   "metadata": {},
   "source": [
    "## Next, get the source models and their weights for each branch path"
   ]
  },
  {
   "cell_type": "code",
   "execution_count": null,
   "metadata": {
    "ExecuteTime": {
     "end_time": "2021-01-31T23:39:27.386669Z",
     "start_time": "2021-01-31T23:39:22.582Z"
    }
   },
   "outputs": [],
   "source": [
    "df_source_model = pd.DataFrame()\n",
    "f = open(os.path.join(model_rundir,source_model_branch_filename))\n",
    "data = f.readlines()\n",
    "f.close()\n",
    "\n",
    "branch_id = []\n",
    "source_model_name = []\n",
    "source_model_weight = []\n",
    "source_model_type = []\n",
    "\n",
    "for line in data:\n",
    "    if 'branchID=' in line:\n",
    "        #print(n)\n",
    "        b = line.split('=')[1]\n",
    "        branch_id.append(b.split('\"')[1])\n",
    "\n",
    "    if  'uncertaintyModel' in line:\n",
    "        #print(n)\n",
    "        smn = line.split('</')[0].split('>')[1]\n",
    "        source_model_name.append(smn)\n",
    "\n",
    "    if  'uncertaintyWeight' in line:\n",
    "        #print(n)\n",
    "        smw = line.split('</')[0].split('>')[1]\n",
    "        source_model_weight.append(smw)\n",
    "\n",
    "source_model_type = [i for i in range(len(source_model_name))]\n",
    "for indx,source_model in enumerate(source_model_name):\n",
    "    for sm_type,sm_details in source_models.items():\n",
    "        for details in sm_details:\n",
    "\n",
    "            if any(source_model in value for value in details):\n",
    "                source_model_type[indx] = sm_type\n",
    "\n",
    "df_source_model['branch_id'] = branch_id\n",
    "df_source_model['source_model'] = source_model_name\n",
    "df_source_model['source_model_weight'] = source_model_weight\n",
    "df_source_model['source_model_type'] = source_model_type\n",
    "\n",
    "display(df_source_model)"
   ]
  },
  {
   "cell_type": "markdown",
   "metadata": {},
   "source": [
    "## Next, get the gmm models and their weights for each tectonic region type"
   ]
  },
  {
   "cell_type": "code",
   "execution_count": null,
   "metadata": {
    "ExecuteTime": {
     "end_time": "2021-01-31T23:39:27.387680Z",
     "start_time": "2021-01-31T23:39:22.586Z"
    }
   },
   "outputs": [],
   "source": [
    "df_gmm_logic_tree = pd.DataFrame(columns = ['tectonic_region', 'gmm_name', 'gmm_weight'])\n",
    "f = open(os.path.join(model_rundir,gmm_logic_tree_filename))\n",
    "data = f.readlines()\n",
    "f.close()\n",
    "\n",
    "trts_indices = []\n",
    "all_trts = []\n",
    "for linenum in range(len(data)):\n",
    "    if 'applyToTectonicRegionType=' in data[linenum]:\n",
    "        trts_indices.append(linenum)\n",
    "        all_trts.append(data[linenum].split('\"')[1].lower())\n",
    "#print(trts_indices,all_trts)\n",
    "\n",
    "# Only keep the tectonic region types applicable to this site\n",
    "keep_trts_inds = [trts_indices[i] for i,x in enumerate(all_trts) if x.lower() in trts]\n",
    "\n",
    "gmm_tectonic_region = []\n",
    "gmm_name = []\n",
    "gmm_weight = []\n",
    "\n",
    "print(keep_trts_inds)\n",
    "\n",
    "for i,trt_ind in enumerate(keep_trts_inds):\n",
    "    count = 0\n",
    "    start_i = trt_ind\n",
    "    if len(trts_indices) == 1:\n",
    "        end_i = len(data)-1\n",
    "    else:\n",
    "        end_i = trts_indices[i+1]\n",
    "    tr = data[trt_ind].split('\"')[1]\n",
    "    print('working on',tr,'from lines',start_i,end_i)\n",
    "    for line in data[start_i:end_i]:\n",
    "        if  'uncertaintyModel' in line:\n",
    "            gmmn = line.split('</')[0].split('>')[1]\n",
    "            gmm_name.append(gmmn)\n",
    "            count = count +1\n",
    "        if  'uncertaintyWeight' in line:\n",
    "            gmmw = line.split('</')[0].split('>')[1]\n",
    "            gmm_weight.append(gmmw)\n",
    "    gmm_tr_tmp = [tr]*count\n",
    "    gmm_tectonic_region.append(gmm_tr_tmp)\n",
    "\n",
    "df_gmm_logic_tree['tectonic_region'] = [item for sublist in gmm_tectonic_region for item in sublist]\n",
    "df_gmm_logic_tree['gmm_name'] = gmm_name\n",
    "df_gmm_logic_tree['gmm_weight'] = gmm_weight\n",
    "display(df_gmm_logic_tree)"
   ]
  },
  {
   "cell_type": "markdown",
   "metadata": {},
   "source": [
    "## Combine the source models & weights, and cratonic GMMs and their weights"
   ]
  },
  {
   "cell_type": "code",
   "execution_count": null,
   "metadata": {
    "ExecuteTime": {
     "end_time": "2021-01-31T23:39:27.390660Z",
     "start_time": "2021-01-31T23:39:22.590Z"
    }
   },
   "outputs": [],
   "source": [
    "source_model_long = df_realisation['branch_path'].to_list()\n",
    "source_model_weight_long = df_realisation['branch_path'].to_list()\n",
    "source_model_type_long = df_realisation['branch_path'].to_list()\n",
    "\n",
    "for i,b in enumerate(df_realisation['branch_path'].to_list()):\n",
    "    for b2,sm,sw,st in zip(branch_id,source_model_name,source_model_weight,source_model_type):\n",
    "        if b == b2:\n",
    "            source_model_long[i] = sm\n",
    "            source_model_weight_long[i] = sw\n",
    "            source_model_type_long[i] = st\n",
    "#print(source_model_long)"
   ]
  },
  {
   "cell_type": "code",
   "execution_count": null,
   "metadata": {
    "ExecuteTime": {
     "end_time": "2021-01-31T23:39:27.391658Z",
     "start_time": "2021-01-31T23:39:22.594Z"
    }
   },
   "outputs": [],
   "source": [
    "df_realisation['source_model'] = source_model_long\n",
    "df_realisation['source_model_weight'] = source_model_weight_long\n",
    "df_realisation['source_model_type'] = source_model_type_long"
   ]
  },
  {
   "cell_type": "code",
   "execution_count": null,
   "metadata": {
    "ExecuteTime": {
     "end_time": "2021-01-31T23:39:27.393652Z",
     "start_time": "2021-01-31T23:39:22.596Z"
    }
   },
   "outputs": [],
   "source": [
    "if 'cratonic' in trts:\n",
    "    # Get cratonic gmm weights\n",
    "    gmm_cweights_rlz = []\n",
    "    gmm_cnames_rlz = df_realisation['cratonic_gmm'].to_list()\n",
    "\n",
    "\n",
    "    for gmm in gmm_cnames_rlz:\n",
    "        df_tmp = df_gmm_logic_tree.loc[(df_gmm_logic_tree['gmm_name']==gmm) & (df_gmm_logic_tree['tectonic_region'] == 'Cratonic')]\n",
    "        gmm_cweights_rlz.extend(df_tmp['gmm_weight'].to_list())\n",
    "\n",
    "    df_realisation['cratonic_gmm_weight'] = gmm_cweights_rlz\n",
    "\n",
    "elif 'non-cratonic' in trts:\n",
    "    # Get non-cratonic gmm weights\n",
    "    gmm_ncweights_rlz = []\n",
    "    gmm_ncnames_rlz = df_realisation['non_cratonic_gmm'].to_list()\n",
    "\n",
    "    for gmm in gmm_ncnames_rlz:\n",
    "        df_tmp = df_gmm_logic_tree.loc[(df_gmm_logic_tree['gmm_name']==gmm) & (df_gmm_logic_tree['tectonic_region'] == 'Non_cratonic')]\n",
    "        gmm_ncweights_rlz.extend(df_tmp['gmm_weight'].to_list())\n",
    "\n",
    "    df_realisation['non_cratonic_gmm_weight'] = gmm_ncweights_rlz"
   ]
  },
  {
   "cell_type": "code",
   "execution_count": null,
   "metadata": {
    "ExecuteTime": {
     "end_time": "2021-01-31T23:39:27.394657Z",
     "start_time": "2021-01-31T23:39:22.599Z"
    },
    "scrolled": true
   },
   "outputs": [],
   "source": [
    "display(df_realisation)"
   ]
  },
  {
   "cell_type": "markdown",
   "metadata": {},
   "source": [
    "## Get the rlz_id's for each unique GMM for each tectonic region type"
   ]
  },
  {
   "cell_type": "code",
   "execution_count": null,
   "metadata": {
    "ExecuteTime": {
     "end_time": "2021-01-31T23:39:27.395646Z",
     "start_time": "2021-01-31T23:39:22.601Z"
    },
    "scrolled": false
   },
   "outputs": [],
   "source": [
    "if 'cratonic' in trts:\n",
    "    # Cratonic GMMs\n",
    "    unique_cratonic_gmm = df_realisation['cratonic_gmm'].unique().tolist()\n",
    "    gmm_rlz_cratonic = dict.fromkeys(unique_cratonic_gmm)\n",
    "    for gmm in unique_cratonic_gmm:\n",
    "        gmm_rlz_cratonic[gmm] = df_realisation['rlz_id'].loc[(df_realisation['cratonic_gmm'] == gmm)].tolist()\n",
    "elif 'non-cratonic' in trts:\n",
    "    # Non-Cratonic GMMs\n",
    "    unique_non_cratonic_gmm = df_realisation['non_cratonic_gmm'].unique().tolist()\n",
    "    gmm_rlz_non_cratonic = dict.fromkeys(unique_non_cratonic_gmm)\n",
    "    for gmm in unique_non_cratonic_gmm:\n",
    "        gmm_rlz_non_cratonic[gmm] = df_realisation['rlz_id'].loc[(df_realisation['non_cratonic_gmm'] == gmm)].tolist()\n"
   ]
  },
  {
   "cell_type": "code",
   "execution_count": null,
   "metadata": {
    "ExecuteTime": {
     "end_time": "2021-01-31T23:39:27.396652Z",
     "start_time": "2021-01-31T23:39:22.604Z"
    }
   },
   "outputs": [],
   "source": [
    "if 'cratonic' in trts:\n",
    "    gmm_nsha18_cratonic = {}\n",
    "    for k,v in gmm_nsha18.items():\n",
    "        if v[0] != []:\n",
    "            gmm_nsha18_cratonic[k] = v[0]\n",
    "    print(gmm_nsha18_cratonic)\n",
    "elif 'non-cratonic' in trts:\n",
    "    gmm_nsha18_non_cratonic = {}\n",
    "    for k,v in gmm_nsha18.items():    \n",
    "        if v[1] != []:\n",
    "            gmm_nsha18_non_cratonic[k] = v[1]\n",
    "    print(gmm_nsha18_non_cratonic)"
   ]
  },
  {
   "cell_type": "markdown",
   "metadata": {},
   "source": [
    "## Plot Cratonic GMMs"
   ]
  },
  {
   "cell_type": "code",
   "execution_count": null,
   "metadata": {
    "ExecuteTime": {
     "end_time": "2021-01-31T23:39:27.396652Z",
     "start_time": "2021-01-31T23:39:22.607Z"
    }
   },
   "outputs": [],
   "source": [
    "from old_tools import read_hcurve_rlz_outcsv, read_mean_quantile_outcsv, plot_OBE_SEE_PCE"
   ]
  },
  {
   "cell_type": "code",
   "execution_count": null,
   "metadata": {
    "ExecuteTime": {
     "end_time": "2021-01-31T23:39:27.397640Z",
     "start_time": "2021-01-31T23:39:22.610Z"
    }
   },
   "outputs": [],
   "source": [
    "os.chdir(results_topdir)\n",
    "ftsize = 25"
   ]
  },
  {
   "cell_type": "code",
   "execution_count": null,
   "metadata": {
    "ExecuteTime": {
     "end_time": "2021-01-31T23:39:27.398638Z",
     "start_time": "2021-01-31T23:39:22.612Z"
    },
    "scrolled": true
   },
   "outputs": [],
   "source": [
    "hcr = 'hazard_curve-rlz'\n",
    "hcm = 'hazard_curve-mean'\n",
    "from matplotlib.ticker import ScalarFormatter\n",
    "from cycler import cycler\n",
    "for period_label,period in plotting_periods.items():\n",
    "    print('Working on GMM plot for',period_label)\n",
    "    \n",
    "    plt.figure(figsize=[10,12])\n",
    "    sf = ScalarFormatter()\n",
    "    sf.set_scientific(False)\n",
    "    sf.set_powerlimits((-0.000001, 0.000001))\n",
    "    \n",
    "    # Set up colour cycler\n",
    "    color_cycler = cycler('color', [plt.get_cmap('jet')(\n",
    "        i/len(gmm_rlz_cratonic)) for i in range(len(gmm_rlz_cratonic))])\n",
    "    plt.rc('axes', prop_cycle=color_cycler)\n",
    "    # FOR CRATONIC GMMS\n",
    "    \n",
    "    # Loop through each GMM, read and combine each realisation\n",
    "    for this_gmm, gmm_rlzs in gmm_rlz_cratonic.items():\n",
    "        filenames = [glob.glob(hcr + '-' + gmm_rlz + '-' + period + '_' + run_ref_num + '.csv')[0] for gmm_rlz in gmm_rlzs]\n",
    "        #print(filenames)\n",
    "        filetype = hcr#'hazard_curve-rlz'\n",
    "        rlz_list, accel_master_list, aep_master_list, poe_master_list = read_hcurve_rlz_outcsv(filetype, filenames, investigation_time, ver='3.10')\n",
    "\n",
    "        if len(rlz_list) != len(accel_master_list[0]) != len(aep_master_list[0]) != len(poe_master_list[0]):\n",
    "            print('something is wrong')\n",
    "        \n",
    "        # get source model weight and non_cratonic for each rlz\n",
    "        rlz_source_model_weight = np.asarray(df_realisation['source_model_weight'].loc[df_realisation['rlz_id'].isin(gmm_rlzs)]).astype(float)\n",
    "        #rlz_nc_gmm_weight = np.asarray(df_realisation['non_cratonic_gmm_weight'].loc[df_realisation['rlz_id'].isin(gmm_rlzs)]).astype(float)\n",
    "        #if len(rlz_list) != len(rlz_source_model_weight) != len(rlz_nc_gmm_weight):\n",
    "        #    print('something is wrong')\n",
    "            \n",
    "        # get combined source model and non-cratonic gmm weight\n",
    "        #combined_sm_ncgmm_weight = np.multiply(rlz_source_model_weight,rlz_nc_gmm_weight)\n",
    "                                                                            \n",
    "        # multiply the poe by the combined weight\n",
    "        weighted_poe_master_list = []\n",
    "        for i,poe_list in enumerate(poe_master_list):\n",
    "            weighted_poe_master_list.append(np.multiply(rlz_source_model_weight[i],poe_list))\n",
    "            \n",
    "        # sum the rlz weighted poes together\n",
    "        summed_weighted_poe = np.sum(np.asarray(weighted_poe_master_list),axis=0)\n",
    "        \n",
    "        if len(summed_weighted_poe) != len(weighted_poe_master_list[0]):\n",
    "            print('something is wrong')\n",
    "            \n",
    "        # Compute weighted AEP and plot curve for each gmm\n",
    "        weighted_aep = np.divide((np.multiply(-1,np.log(np.subtract(1,summed_weighted_poe)))),investigation_time)\n",
    "        acc=accel_master_list[0]\n",
    "        for key,value in gmm_nsha18_cratonic.items():\n",
    "            if this_gmm == value[1]:\n",
    "                \n",
    "                from textwrap import fill\n",
    "                this_label = fill(key, 20)\n",
    "                \n",
    "                plt.loglog(acc,weighted_aep, label = this_label, linewidth=3)\n",
    "                \n",
    "    # Get the mean hazard curve for the appropriate Period \n",
    "    filename_m = glob.glob(hcm + '-' + period + '_' + run_ref_num + '.csv')\n",
    "    #print(filename_m)\n",
    "    filetype_m = 'hazard_curve-mean'\n",
    "    accel_master_list_m, aep_master_list_m, poe_master_list_m = read_mean_quantile_outcsv(filetype_m, filename_m, investigation_time,ver='3.10')\n",
    "\n",
    "    accelerationm = accel_master_list_m[0]\n",
    "    aepm = aep_master_list_m[0]\n",
    "    \n",
    "    # Plot the mean hazard curve\n",
    "    plt.loglog(accelerationm,aepm, label = 'Mean from all GMMs', color='k', linewidth=3)\n",
    "    \n",
    "    # Label and annotate the plot\n",
    "    outfilename = 'gmm_' + period + '_cratonic' + '.png'\n",
    "    \n",
    "    \n",
    "    #plt.title(period_label, fontsize=ftsize+4, weight='heavy')# + ' ' + cnc)\n",
    "    plt.xlabel(\"Acceleration (g)\",  fontsize=ftsize)\n",
    "    plt.ylabel(\"Annual Exceedence Probability\",  fontsize=ftsize)\n",
    "    #plt.legend(prop={'size': 12}, title= cnc.title() + ' GMMs',title_fontsize=12, edgecolor='inherit', labelspacing=1.2, borderpad=0.7, bbox_to_anchor=(0., 1.02, 1., .102), loc=3,mode=\"expand\")\n",
    "    if period_label == 'PGA':\n",
    "        legend_title = 'PGA'\n",
    "    else:\n",
    "        legend_title = period_label.replace('SP(','').replace(')','') + ' s'\n",
    "    \n",
    "    plt.legend(prop={'size': ftsize-8}, title= 'GMMs at '+legend_title,title_fontsize=ftsize-6, edgecolor='inherit', borderpad=0.5, loc='upper right')\n",
    "\n",
    "    plt.grid(True, which='both')\n",
    "    plt.axis([0.001,1,0.00001,0.1])\n",
    "    plt.xticks([0.001,0.01,0.1,1],[0.001,0.01,0.1,1], fontsize=ftsize)\n",
    "    plt.yticks([0.00001,0.0001,0.001,0.01,0.1],[0.00001,0.0001,0.001,0.01,0.1], fontsize=ftsize)\n",
    "    plt.savefig(os.path.join(figure_dir,outfilename),format='PNG', dpi=300, bbox_inches='tight', pad_inches=0.1)\n",
    "    \n",
    "#OLD#plt.legend(prop={'size': ftsize-4}, title= 'Cratonic GMMs',title_fontsize=ftsize-2, edgecolor='inherit', labelspacing=1.2, borderpad=0.7, bbox_to_anchor=(0., 1.02, 1., .102), loc=3,mode=\"expand\")\n",
    "#plt.legend(prop={'size': ftsize-6}, title= 'Cratonic GMMs',title_fontsize=ftsize-4, edgecolor='inherit', borderpad=0.5, loc='upper right')\n",
    "\n",
    "#plt.savefig(os.path.join(figure_dir,outfilename[:-4]+'_wLegend.png'),format='PNG', dpi=300, bbox_inches='tight', pad_inches=0.1)\n",
    "   "
   ]
  },
  {
   "cell_type": "markdown",
   "metadata": {},
   "source": [
    "# Plot Source Model Realisations"
   ]
  },
  {
   "cell_type": "markdown",
   "metadata": {},
   "source": [
    "## Get a list of realisations for each Source Model"
   ]
  },
  {
   "cell_type": "code",
   "execution_count": null,
   "metadata": {
    "ExecuteTime": {
     "end_time": "2021-01-31T23:39:27.400633Z",
     "start_time": "2021-01-31T23:39:22.616Z"
    }
   },
   "outputs": [],
   "source": [
    "display(df_realisation)"
   ]
  },
  {
   "cell_type": "code",
   "execution_count": null,
   "metadata": {
    "ExecuteTime": {
     "end_time": "2021-01-31T23:39:27.401630Z",
     "start_time": "2021-01-31T23:39:22.618Z"
    }
   },
   "outputs": [],
   "source": [
    "os.chdir(results_topdir)\n",
    "\n",
    "sm_types = df_realisation['source_model_type'].unique().tolist()\n",
    "sm_rlz = dict.fromkeys(sm_types)\n",
    "for sm_type in sm_types:\n",
    "    df_tmp = df_realisation.loc[(df_realisation['source_model_type']==sm_type)]\n",
    "    unique_sm = df_tmp['source_model'].unique().tolist()\n",
    "    sm_rlz[sm_type] = dict.fromkeys(unique_sm)\n",
    "    for sm in unique_sm:\n",
    "        sm_rlz[sm_type][sm] = df_tmp['rlz_id'].loc[(df_tmp['source_model'] == sm)].tolist()\n",
    "print(sm_rlz)"
   ]
  },
  {
   "cell_type": "code",
   "execution_count": null,
   "metadata": {
    "ExecuteTime": {
     "end_time": "2021-01-31T23:39:27.403627Z",
     "start_time": "2021-01-31T23:39:22.621Z"
    },
    "scrolled": true
   },
   "outputs": [],
   "source": [
    "###### Select the fontsize that is best for this figure's annotations based on how it shows in the report\n",
    "from matplotlib.ticker import ScalarFormatter\n",
    "ftsize = 16\n",
    "axis_bounds = [0.001,1,0.00001,0.1]\n",
    "x_ticks = [0.001,0.01,0.1,1] #and labels\n",
    "y_ticks = [0.00001,0.0001,0.001,0.01,0.1] #and labels\n",
    "legend_loc = 'upper right'\n",
    "plottitle=True\n",
    "\n",
    "from cycler import cycler\n",
    "\n",
    "for natp in nat_period:\n",
    "    \n",
    "    plt.figure(figsize=[10,12])\n",
    "    sf = ScalarFormatter()\n",
    "    sf.set_scientific(False)\n",
    "    sf.set_powerlimits((-0.000001, 0.000001))\n",
    "\n",
    "    # Set up colour cycler\n",
    "    color_cycler = cycler('color', [plt.get_cmap('jet')(\n",
    "        i/len(source_models['uniform_area'])) for i in range(len(source_models['uniform_area']))])\n",
    "    plt.rc('axes', prop_cycle=color_cycler)\n",
    "\n",
    "    print('Plotting source models for',sm_type)\n",
    "    for sm_label,sm_details in source_models['uniform_area'].items():\n",
    "        weighted_poe_master_list = []\n",
    "        for n, details in enumerate(sm_details):\n",
    "            \n",
    "            sm_filename = details[0]\n",
    "\n",
    "            sm_weight = details[1]\n",
    "\n",
    "            print('Working on ' + sm_label)\n",
    "                \n",
    "            for sm_type in sm_rlz.keys():\n",
    "                for sm_fn, rlzs in sm_rlz[sm_type].items():\n",
    "                    if sm_filename == sm_fn:\n",
    "                        source_model_rlz = rlzs\n",
    "                    else:\n",
    "                        break\n",
    "\n",
    "            # Get gmm weights for that rlz\n",
    "            cratonic_gmm_wts = np.asarray(df_realisation['cratonic_gmm_weight'].loc[df_realisation['rlz_id'].isin(source_model_rlz)]).astype(float)\n",
    "            #print(cratonic_gmm_wts)\n",
    "            #non_cratonic_gmm_wts = np.asarray(df_realisation['non_cratonic_gmm_weight'].loc[df_realisation['rlz_id'].isin(source_model_rlz)]).astype(float)\n",
    "            #print(sm_filename,gmm_wts)\n",
    "\n",
    "\n",
    "            #Combine weights\n",
    "            combined_sm_gmm_wts = np.multiply(sm_weight,cratonic_gmm_wts)\n",
    "            #combined_sm_gmm_wts = np.multiply(sm_weight,np.multiply(cratonic_gmm_wts,non_cratonic_gmm_wts))\n",
    "\n",
    "\n",
    "            # Read the acc, poe, and aep data from the hazard curve files\n",
    "            filetype = 'hazard_curve-rlz'\n",
    "\n",
    "            filenames = [glob.glob(hcr + '-' + rlz + '-' + natp + '_' + run_ref_num + '.csv')[0] for rlz in source_model_rlz]\n",
    "            print(filenames)\n",
    "            rlz_list, accel_master_list, aep_master_list, poe_master_list = read_hcurve_rlz_outcsv(filetype, filenames, investigation_time,ver='3.10')\n",
    "\n",
    "            # multiply the poe by the combined weight\n",
    "            #weighted_poe_master_list = [] # move this before the details round since there are 2 sub source models for each one\n",
    "            for i,poe_list in enumerate(poe_master_list):\n",
    "                print(poe_list, cratonic_gmm_wts[i])\n",
    "                weighted_poe_master_list.append(np.multiply(combined_sm_gmm_wts[i],poe_list))\n",
    "\n",
    "        # sum the rlz weighted poes together\n",
    "        summed_weighted_poe = np.sum(np.asarray(weighted_poe_master_list),axis=0)\n",
    "\n",
    "\n",
    "\n",
    "        if len(summed_weighted_poe) != len(weighted_poe_master_list[0]):\n",
    "            print('something is wrong')\n",
    "\n",
    "        # Compute weighted AEP and plot curve for each source_model\n",
    "        weighted_aep = np.divide((np.multiply(-1,np.log(np.subtract(1,summed_weighted_poe)))),investigation_time)\n",
    "        acc=accel_master_list[0]\n",
    "\n",
    "\n",
    "        plt.loglog(acc,weighted_aep, label = sm_label, linewidth=2)\n",
    "\n",
    "    filename2_mean = glob.glob(hcm + '-' + natp + '_' + run_ref_num + '.csv')\n",
    "    filetype2 = 'hazard_curve-mean'\n",
    "    print(filename2_mean)\n",
    "    accel_master_list, aep_master_list, poe_master_list = read_mean_quantile_outcsv(filetype2, filename2_mean, investigation_time, ver='3.10')\n",
    "\n",
    "    acceleration_mean = accel_master_list[0]\n",
    "    aep_mean = aep_master_list[0]\n",
    "\n",
    "    plt.loglog(acceleration_mean,aep_mean, label='Mean',linewidth=3, color='k')\n",
    "\n",
    "    plot_OBE_SEE_PCE(return_periods,ftsize)\n",
    "\n",
    "    # Label and annotate the plot\n",
    "    outfilename = 'source_model_hazard_curves_'+natp+'.png'\n",
    "    plot_title = 'Uniform Area Sources ' + natp \n",
    "    #plt.title(plottitle, fontsize=ftsize+4, weight='heavy')\n",
    "    plt.xlabel(\"Acceleration (g)\", weight='heavy', fontsize=ftsize)\n",
    "    plt.ylabel(\"Annual Exceedence Probability\", weight='heavy', fontsize=ftsize)\n",
    "    plt.legend(prop={'size': 13}, edgecolor='inherit', borderpad=0.7, labelspacing=0.7)\n",
    "    plt.grid(True, which='both')\n",
    "    plt.axis(axis_bounds)\n",
    "    plt.xticks(x_ticks,x_ticks, fontsize=ftsize)\n",
    "    plt.yticks(y_ticks,y_ticks, fontsize=ftsize)\n",
    "    #if plottitle:\n",
    "        #plt.title(natp)\n",
    "        #plt.title(plot_title, fontsize=ftsize+4, weight='heavy')\n",
    "    plt.savefig(os.path.join(figure_dir,outfilename),format='PNG', dpi=300, bbox_inches='tight', pad_inches=0.1)"
   ]
  },
  {
   "cell_type": "markdown",
   "metadata": {},
   "source": [
    "# Plot Uniform Hazard Spectra"
   ]
  },
  {
   "cell_type": "code",
   "execution_count": null,
   "metadata": {
    "ExecuteTime": {
     "end_time": "2021-01-31T23:39:27.404622Z",
     "start_time": "2021-01-31T23:39:22.624Z"
    },
    "scrolled": true
   },
   "outputs": [],
   "source": [
    "#os.chdir(results_topdir)\n",
    "\n",
    "plot_parameters = {'output_format' : 'openquake',\n",
    "                   'OQrunnum' : run_ref_num,\n",
    "                   'ftsize' : 25, \n",
    "                   'figsize' : [15,12],\n",
    "                   'axis_bounds' : [0.01,4,0.01,1], \n",
    "                   'yrp_label_position' : 0.021,\n",
    "                   'grid_on' : True,\n",
    "                   'x_ticks' : [0.01,0.1,1], \n",
    "                   'x_tick_labels' : ['PGA',0.1,1], \n",
    "                   'y_ticks' : [0.001,0.010,0.100,1.000], \n",
    "                   'xlabel' : 'Spectral Acceleration (g)', \n",
    "                   'ylabel' : 'Annual Exceedence Probability',\n",
    "                   'legend_loc' : 'upper right',\n",
    "                   'pga_proxy' : '0.01',\n",
    "                   'plotsave' : True, \n",
    "                   'savedir' : figure_dir}\n",
    "\n",
    "plot_mean_uhrs_spectra(plot_parameters,results_topdir, return_periods)\n",
    "\n",
    "\n",
    "plot_parameters['legend_loc'] = 'lower center'\n",
    "plot_uhrs_by_return_period(plot_parameters,results_topdir, return_periods, fractile_hazard_curves)"
   ]
  },
  {
   "cell_type": "markdown",
   "metadata": {},
   "source": [
    "# Display tables for report"
   ]
  },
  {
   "cell_type": "code",
   "execution_count": null,
   "metadata": {
    "ExecuteTime": {
     "end_time": "2021-01-31T23:39:27.405619Z",
     "start_time": "2021-01-31T23:39:22.627Z"
    }
   },
   "outputs": [],
   "source": [
    "mean_or_fractile = 'mean'\n",
    "filename_prefix = 'hazard_uhs'\n",
    "\n",
    "df = read_uhrs_openquake(mean_or_fractile, filename_prefix, results_topdir, run_ref_num)\n",
    "df.sort_index(inplace=True)\n",
    "df.to_excel(os.path.join(figure_dir,'mean_uhs_table.xlsx'))"
   ]
  },
  {
   "cell_type": "code",
   "execution_count": null,
   "metadata": {
    "ExecuteTime": {
     "end_time": "2021-01-31T23:39:27.408612Z",
     "start_time": "2021-01-31T23:39:22.630Z"
    }
   },
   "outputs": [],
   "source": [
    "display(df)"
   ]
  },
  {
   "cell_type": "code",
   "execution_count": null,
   "metadata": {
    "ExecuteTime": {
     "end_time": "2021-01-31T23:39:27.410607Z",
     "start_time": "2021-01-31T23:39:22.632Z"
    }
   },
   "outputs": [],
   "source": [
    "filename_prefix = 'quantile_uhs'\n",
    "dfs = dict.fromkeys(fractile_hazard_curves.keys())\n",
    "for fractile, fractile_details in fractile_hazard_curves.items():\n",
    "    if fractile != 'mean':\n",
    "        mean_or_fractile = fractile_details[0]\n",
    "        dfs[fractile] = read_uhrs_openquake(mean_or_fractile, filename_prefix, results_topdir, run_ref_num)"
   ]
  },
  {
   "cell_type": "code",
   "execution_count": null,
   "metadata": {
    "ExecuteTime": {
     "end_time": "2021-01-31T23:39:27.412602Z",
     "start_time": "2021-01-31T23:39:22.636Z"
    },
    "scrolled": false
   },
   "outputs": [],
   "source": [
    "for frac,frac_df in dfs.items():\n",
    "    if frac != 'mean':\n",
    "        print(frac)\n",
    "        frac_df.sort_index(inplace=True)\n",
    "        display(frac_df)\n",
    "        frac_df.to_excel(os.path.join(figure_dir,frac+'_uhs_table.xlsx'))"
   ]
  },
  {
   "cell_type": "code",
   "execution_count": null,
   "metadata": {
    "ExecuteTime": {
     "end_time": "2021-01-20T03:19:52.743625Z",
     "start_time": "2021-01-20T03:19:38.657Z"
    },
    "deletable": false,
    "editable": false,
    "run_control": {
     "frozen": true
    },
    "scrolled": false
   },
   "outputs": [],
   "source": [
    "# One plot for each return period\n",
    "for k,v in return_periods.items():\n",
    "    this_yrp_poe = {k : v}\n",
    "    plot_UHS(fractile_hazard_curves, this_yrp_poe, desired_periods,run_ref_num, axis_bounds, x_ticks, y_ticks, ftsize, figure_dir,ver='3.10')"
   ]
  },
  {
   "cell_type": "markdown",
   "metadata": {},
   "source": [
    "## Plot all together"
   ]
  },
  {
   "cell_type": "code",
   "execution_count": null,
   "metadata": {
    "ExecuteTime": {
     "end_time": "2021-01-26T21:56:03.683235Z",
     "start_time": "2021-01-26T21:56:03.279750Z"
    },
    "deletable": false,
    "editable": false,
    "run_control": {
     "frozen": true
    },
    "scrolled": false
   },
   "outputs": [],
   "source": [
    "os.chdir(results_topdir)\n",
    "ftsize = 25\n",
    "axis_bounds = [0.01,4,0.01,1.1]\n",
    "x_ticks = [0.01,0.1,1] #and labels\n",
    "y_ticks = [0.001,0.010,0.100,1.000] #and labels\n",
    "\n",
    "plot_UHS(fractile_hazard_curves, return_periods, desired_periods,run_ref_num, axis_bounds, x_ticks, y_ticks, ftsize, figure_dir,ver='3.10')"
   ]
  },
  {
   "cell_type": "markdown",
   "metadata": {},
   "source": [
    "## Plot 2 OQruns on the same plot"
   ]
  },
  {
   "cell_type": "code",
   "execution_count": null,
   "metadata": {
    "ExecuteTime": {
     "end_time": "2021-01-31T23:39:27.414596Z",
     "start_time": "2021-01-31T23:39:22.642Z"
    }
   },
   "outputs": [],
   "source": [
    "from plotting_tools import ax_plot_annotation_and_styling\n",
    "from uhrs_tools import read_uhrs_openquake"
   ]
  },
  {
   "cell_type": "code",
   "execution_count": null,
   "metadata": {
    "ExecuteTime": {
     "end_time": "2021-01-31T23:39:27.415594Z",
     "start_time": "2021-01-31T23:39:22.644Z"
    }
   },
   "outputs": [],
   "source": [
    "plot_parameters = {'output_format' : 'openquake',\n",
    "                   'OQrunnum' : run_ref_num,\n",
    "                   'ftsize' : 20, \n",
    "                   'figsize' : [25,20],\n",
    "                   'axis_bounds' : [0.01,4,0.01,1], \n",
    "                   'yrp_label_position' : 0.021,\n",
    "                   'grid_on' : True,\n",
    "                   'x_ticks' : [0.01,0.1,1], \n",
    "                   'x_tick_labels' : ['PGA',0.1,1], \n",
    "                   'y_ticks' : [0.001,0.010,0.100,1.000], \n",
    "                   'xlabel' : 'Spectral Acceleration (g)', \n",
    "                   'ylabel' : 'Annual Exceedence Probability',\n",
    "                   'legend_loc' : 'upper right',\n",
    "                   'pga_proxy' : '0.01',\n",
    "                   'plotsave' : True, \n",
    "                   'savedir' : figure_dir}"
   ]
  },
  {
   "cell_type": "code",
   "execution_count": null,
   "metadata": {
    "ExecuteTime": {
     "end_time": "2021-01-31T23:39:27.417588Z",
     "start_time": "2021-01-31T23:39:22.647Z"
    },
    "scrolled": false
   },
   "outputs": [],
   "source": [
    "run_ref_nums = {'5224' : os.path.join(userdir,'Golder Associates','20137760, GFA GSM Cell 1 2 3 Review - 010 SHA', 'OQ_model_results','Run6','results'), \n",
    "                '5225' : os.path.join(userdir,'Golder Associates','20137760, GFA GSM Cell 1 2 3 Review - 010 SHA', 'OQ_model_results','Run7','results'),\n",
    "               '5233' : os.path.join(userdir,'Golder Associates','20137760, GFA GSM Cell 1 2 3 Review - 010 SHA', 'OQ_model_results','Run4','results'), \n",
    "                '5239' : os.path.join(userdir,'Golder Associates','20137760, GFA GSM Cell 1 2 3 Review - 010 SHA', 'OQ_model_results','Run9','results')\n",
    "                \n",
    "               }#'4777' : os.path.join(userdir,'Golder Associates','20137760, GFA GSM Cell 1 2 3 Review - 010 SHA', 'OQ_model_results','Run5','results'), \n",
    "               #'5226' : os.path.join(userdir,'Golder Associates','20137760, GFA GSM Cell 1 2 3 Review - 010 SHA', 'OQ_model_results','Run8','results')}\n",
    "# Set up figure\n",
    "fig, ax = plt.subplots(figsize=plot_parameters['figsize'])\n",
    "# Mean urhs\n",
    "mean_or_fractile = 'mean'\n",
    "filename_prefix = 'hazard_uhs'\n",
    "for i, (OQrunnum, results_dir) in enumerate(run_ref_nums.items()):\n",
    "    plot_parameters.update({'OQrunnum' : OQrunnum})\n",
    "    df = read_uhrs_openquake(mean_or_fractile, filename_prefix, results_dir, OQrunnum)\n",
    "    \n",
    "    # Plot UHRS mean for each return period\n",
    "    for yrp, yrp_details in return_periods.items():\n",
    "        yrp_decimal = yrp_details[0]\n",
    "\n",
    "        # Extract the IMTs and accelerations for the desired return period and replace PGA with provided proxy value\n",
    "        IMTs = [float(x.replace('PGA',plot_parameters['pga_proxy'])) if x == 'PGA'\n",
    "                else float(x.replace('SA(','').replace(')','')) for x in df.index.tolist()]\n",
    "        accelerations = [float(x) for x in df[yrp_decimal].tolist()]\n",
    "        \n",
    "        # Sort the arrays by IMTs for plotting\n",
    "        sorted_arrays = sorted(zip(IMTs, accelerations))\n",
    "        IMTs, accelerations = [list(tuple) for tuple in  zip(*sorted_arrays)]\n",
    "\n",
    "        # Plot lines\n",
    "        if i==0:\n",
    "            ax.loglog(IMTs, accelerations, label='Vs30=760 1:%s AEP' % yrp, color=yrp_details[1], linewidth=3, alpha=0.7, ls='dashed')\n",
    "        elif i==1:\n",
    "            ax.loglog(IMTs, accelerations, label='Vs30=1600 1:%s AEP' % yrp, color=yrp_details[1], linewidth=3, ls = 'dotted')\n",
    "        elif i==2:\n",
    "            ax.loglog(IMTs, accelerations, label='All GMMs Vs30=760 1:%s AEP' % yrp, color=yrp_details[1], linewidth=3)\n",
    "        elif i==3:\n",
    "            ax.loglog(IMTs, accelerations, label='full_run Vs30=1600 1:%s AEP' % yrp, color='cyan', linewidth=3, ls = 'dashed',alpha=0.2)\n",
    "        else:\n",
    "            ax.loglog(IMTs, accelerations, label='Most GMMs Vs30=1200 1:%s AEP' % yrp, color='magenta', linewidth=3, ls = 'dashed')\n",
    "    \n",
    "    # Annotate and style plot\n",
    "    ax = ax_plot_annotation_and_styling(ax, plot_parameters)\n",
    "    \n",
    "    # Save figure\n",
    "    if plot_parameters['plotsave']:\n",
    "        plt.savefig(os.path.join(plot_parameters['savedir'], \n",
    "                                 'mean_uhrs_760_1600' + '_'.join(return_periods.keys()) + '.png'),\n",
    "                    format='PNG', dpi=600, bbox_inches='tight', pad_inches=0.1\n",
    "                    )"
   ]
  },
  {
   "cell_type": "code",
   "execution_count": null,
   "metadata": {
    "ExecuteTime": {
     "end_time": "2021-01-31T23:39:27.419583Z",
     "start_time": "2021-01-31T23:39:22.650Z"
    }
   },
   "outputs": [],
   "source": [
    "print(results_topdir)"
   ]
  },
  {
   "cell_type": "code",
   "execution_count": null,
   "metadata": {
    "ExecuteTime": {
     "end_time": "2021-01-31T23:39:27.420580Z",
     "start_time": "2021-01-31T23:39:22.653Z"
    }
   },
   "outputs": [],
   "source": [
    "plot_parameters = {'output_format' : 'openquake',\n",
    "                   'OQrunnum' : run_ref_num,\n",
    "                   'ftsize' : 20, \n",
    "                   'figsize' : [30,30],\n",
    "                   'axis_bounds' : [0.01,100,0.01,1], \n",
    "                   'yrp_label_position' : 0.021,\n",
    "                   'grid_on' : True,\n",
    "                   'x_ticks' : [0.01,0.1,1], \n",
    "                   'x_tick_labels' : ['PGA',0.1,1], \n",
    "                   'y_ticks' : [0.001,0.010,0.100,1.000], \n",
    "                   'xlabel' : 'Spectral Acceleration (g)', \n",
    "                   'ylabel' : 'Annual Exceedence Probability',\n",
    "                   'legend_loc' : 'upper right',\n",
    "                   'pga_proxy' : '0.01',\n",
    "                   'plotsave' : True, \n",
    "                   'savedir' : os.path.join(userdir,'Golder Associates','20137760, GFA GSM Cell 1 2 3 Review - 010 SHA', 'OQ_model_results','Run7','results','figures')}"
   ]
  },
  {
   "cell_type": "code",
   "execution_count": null,
   "metadata": {
    "ExecuteTime": {
     "end_time": "2021-01-31T23:39:27.422574Z",
     "start_time": "2021-01-31T23:39:22.657Z"
    },
    "scrolled": false
   },
   "outputs": [],
   "source": [
    "run_ref_nums = {'5224' : os.path.join(userdir,'Golder Associates','20137760, GFA GSM Cell 1 2 3 Review - 010 SHA', 'OQ_model_results','Run6','results'), \n",
    "                '5225' : os.path.join(userdir,'Golder Associates','20137760, GFA GSM Cell 1 2 3 Review - 010 SHA', 'OQ_model_results','Run7','results')}\n",
    "# Set up figure\n",
    "fig, ax = plt.subplots(figsize=plot_parameters['figsize'])\n",
    "\n",
    "results_dict = dict.fromkeys({v[0] for v in fractile_hazard_curves.values()})\n",
    "for i, (OQrunnum, results_dir) in enumerate(run_ref_nums.items()):\n",
    "    for mean_or_fractile in results_dict.keys():\n",
    "        # Set filename prefix based on mean_or_fractile\n",
    "        if mean_or_fractile == 'mean':\n",
    "            filename_prefix = 'hazard_uhs'\n",
    "        else:\n",
    "            filename_prefix = 'quantile_uhs'\n",
    "\n",
    "        #Read the results and store in results_dict for each fractile\n",
    "        results_dict[mean_or_fractile] = read_uhrs_openquake(mean_or_fractile, filename_prefix, results_dir, OQrunnum)\n",
    "\n",
    "    # Create a figure for each return period\n",
    "    for yrp, yrp_details in return_periods.items():\n",
    "        yrp_decimal = yrp_details[0]\n",
    "        \n",
    "        ## Set up figure\n",
    "        #fig, ax = plt.subplots(figsize=plot_parameters['figsize'])\n",
    "        \n",
    "        # Extract IMTs and accelerations for each fractile and plot\n",
    "        for fractile_label, fractile_details in fractile_hazard_curves.items():\n",
    "            fractile = fractile_details[0]\n",
    "            \n",
    "            IMTs = [float(x.replace('PGA',plot_parameters['pga_proxy'])) if x == 'PGA'\n",
    "                else float(x.replace('SA(','').replace(')','')) for x in results_dict[fractile].index.tolist()]\n",
    "            accelerations = [float(x) for x in results_dict[fractile][yrp_decimal].tolist()]\n",
    "            \n",
    "            # Sort the arrays by IMTs for plotting\n",
    "            sorted_arrays = sorted(zip(IMTs, accelerations))\n",
    "            IMTs, accelerations = [list(tuple) for tuple in  zip(*sorted_arrays)]\n",
    "\n",
    "            # Set curve labels\n",
    "            if fractile == 'mean':\n",
    "                line_label = '1:%s AEP mean' % yrp\n",
    "                line_width = 3\n",
    "            else:\n",
    "                line_label = r'1:%s AEP %s$^{th}$ fractile' % (yrp, fractile_label)\n",
    "                line_width = 2\n",
    "\n",
    "            # Plot lines\n",
    "            if i==0:\n",
    "                ax.loglog(IMTs, accelerations, label='vs30=760 ' + line_label, color=yrp_details[1], linestyle=fractile_details[1], linewidth=line_width, alpha = 0.5)\n",
    "            else:\n",
    "                ax.loglog(IMTs, accelerations, label='vs30=1600 ' + line_label, color=yrp_details[1], linestyle=fractile_details[1], linewidth=line_width)\n",
    "    \n",
    "        # Annotate and style plot\n",
    "        ax = ax_plot_annotation_and_styling(ax, plot_parameters)\n",
    "        \n",
    "        # Save figure\n",
    "        if plot_parameters['plotsave']:\n",
    "            plt.savefig(os.path.join(plot_parameters['savedir'], 'uhrs_760_1600_' + yrp + '.png'),\n",
    "                        format='PNG', dpi=600, bbox_inches='tight', pad_inches=0.1\n",
    "                        )"
   ]
  },
  {
   "cell_type": "markdown",
   "metadata": {},
   "source": [
    "# Obtain final validation figures (Validation of model at 1/475 AEP and 1/2,475 AEP)"
   ]
  },
  {
   "cell_type": "code",
   "execution_count": null,
   "metadata": {},
   "outputs": [],
   "source": []
  },
  {
   "cell_type": "code",
   "execution_count": null,
   "metadata": {
    "ExecuteTime": {
     "end_time": "2021-01-31T23:39:27.424569Z",
     "start_time": "2021-01-31T23:39:22.665Z"
    }
   },
   "outputs": [],
   "source": [
    "filepath = os.path.join(results_topdir, hum + '_' + run_ref_num + '.csv')\n",
    "print(filepath)\n",
    "df_validation = validation_table(filepath,desired_poes_validation,spectral_periods, ver='3.10')\n",
    "\n",
    "# Copy the dataframe to insert into a word table\n",
    "df_validation.to_clipboard()\n",
    "display(df_validation)"
   ]
  },
  {
   "cell_type": "markdown",
   "metadata": {},
   "source": [
    "# Obtain final UHS for OBE, SEE, and MCE with fractiles"
   ]
  },
  {
   "cell_type": "code",
   "execution_count": null,
   "metadata": {
    "ExecuteTime": {
     "end_time": "2021-01-19T20:43:08.913045Z",
     "start_time": "2021-01-19T20:42:36.537Z"
    },
    "deletable": false,
    "editable": false,
    "run_control": {
     "frozen": true
    },
    "scrolled": true
   },
   "outputs": [],
   "source": [
    "os.chdir(results_topdir)\n",
    "ver='3.10'\n",
    "\n",
    "df_quantile_OBE = pd.DataFrame(index = spectral_periods)\n",
    "df_quantile_SEE = pd.DataFrame(index = spectral_periods)\n",
    "df_quantile_MCE = pd.DataFrame(index = spectral_periods)\n",
    "df_quantile_1000 = pd.DataFrame(index = spectral_periods)\n",
    "df_quantile_5000 = pd.DataFrame(index = spectral_periods)\n",
    "df_quantile_10000 = pd.DataFrame(index = spectral_periods)\n",
    "\n",
    "\n",
    "for qt_label,qtl_details in fractile_hazard_curves.items():\n",
    "    qtl = qtl_details[0]\n",
    "    if qtl != 'mean':\n",
    "        filename = glob.glob(qu + '-' + qtl + '_' + run_ref_num + '.csv')[0]\n",
    "        print(filename)\n",
    "\n",
    "    else:\n",
    "        filename = glob.glob(hum + '_' + run_ref_num + '.csv')[0]\n",
    "    \n",
    "\n",
    "    with open(filename) as f:\n",
    "        lines = f.readlines()\n",
    "    if ver == '3.10':\n",
    "        lines = [lines[i] for i,x in enumerate(lines) if not x == '\\n']\n",
    "\n",
    "    tmp_line1 = lines[1].strip().split(',')[2:]\n",
    "    tmp_line2 = lines[2].strip().split(',')[2:]\n",
    "    \n",
    "\n",
    "    for keys, poe_uhs_details in return_periods.items():\n",
    "        poe_uhs = poe_uhs_details[0]\n",
    "        for spec_per in spectral_periods:\n",
    "            poss = [pos for pos,x in enumerate(tmp_line1) if x.split('~')[0]==poe_uhs and x.split('~')[1]==spec_per]\n",
    "\n",
    "            if len(poss) == 1:\n",
    "                i = poss[0]\n",
    "                val=tmp_line2[i]\n",
    "\n",
    "                if (poe_uhs == '0.1'):# and (header_qtl == qtl):\n",
    "                    df_quantile_OBE.at[spec_per,qtl] = round(float(val),3)\n",
    "                elif (poe_uhs == '0.00995'):# and (header_qtl == qtl):\n",
    "                    df_quantile_5000.at[spec_per,qtl] = round(float(val),3)\n",
    "                elif (poe_uhs == '0.00499'):# and (header_qtl == qtl):\n",
    "                    df_quantile_10000.at[spec_per,qtl] = round(float(val),3)\n",
    "                elif (poe_uhs == '0.04877'):\n",
    "                    df_quantile_1000.at[spec_per,qtl] = round(float(val),3)\n",
    "                elif (poe_uhs == '0.02469'):\n",
    "                    df_quantile_SEE.at[spec_per,qtl] = round(float(val),3)\n",
    "                    \n",
    "                    \n",
    "column_order = ['mean','0.05','0.16','0.5','0.84','0.95']\n",
    "\n",
    "print(\"df_quantile_OBE\")\n",
    "display(df_quantile_OBE[column_order])\n",
    "df_quantile_OBE[column_order].to_excel(os.path.join(figure_dir,\"OBE_fractile_table.xlsx\"));\n",
    "\n",
    "\n",
    "print(\"df_quantile_SEE\")\n",
    "display(df_quantile_SEE)\n",
    "df_quantile_SEE[column_order].to_excel(os.path.join(figure_dir,\"SEE_fractile_table.xlsx\"));\n",
    "\n",
    "#print(\"df_quantile_MCE\")\n",
    "#display(df_quantile_MCE)\n",
    "#df_quantile_MCE[column_order].to_excel(os.path.join(figure_dir,\"PCE_fractile_table.xlsx\"))\n",
    "\n",
    "print(\"df_quantile_1000\")\n",
    "#display(df_quantile_1000)\n",
    "#df_quantile_1000[column_order].to_excel(os.path.join(figure_dir,\"1000_fractile_table.xlsx\"));\n",
    "\n",
    "print(\"df_quantile_5000\")\n",
    "#display(df_quantile_5000)\n",
    "#df_quantile_5000[column_order].to_excel(os.path.join(figure_dir,\"5000_fractile_table.xlsx\"));\n",
    "\n",
    "print(\"df_quantile_10000\")\n",
    "display(df_quantile_10000)\n",
    "df_quantile_10000[column_order].to_excel(os.path.join(figure_dir,\"10000_fractile_table.xlsx\"));"
   ]
  },
  {
   "cell_type": "markdown",
   "metadata": {},
   "source": [
    "# Get fault hazard curves"
   ]
  },
  {
   "cell_type": "code",
   "execution_count": null,
   "metadata": {
    "ExecuteTime": {
     "end_time": "2021-01-19T20:43:08.915038Z",
     "start_time": "2021-01-19T20:42:36.540Z"
    },
    "deletable": false,
    "editable": false,
    "run_control": {
     "frozen": true
    }
   },
   "outputs": [],
   "source": [
    "f = open(os.path.join(proj_dir,'Run1','AUS6_collapsed_Cut_MFDedit_wFaults.xml'))\n",
    "data = f.readlines()\n",
    "f.close()\n",
    "\n",
    "fault_names = []\n",
    "\n",
    "for linenum in range(len(data)):\n",
    "    if '<simpleFaultSource' in data[linenum]:\n",
    "        fault_names.append(data[linenum].split('\"')[3])\n",
    "        \n",
    "total_num_faults = 25\n",
    "fault_dict = dict.fromkeys(list(range(1,total_num_faults+1)))\n",
    "for fault_num, oq_ref_num,fault_name in zip(list(fault_dict.keys()),list(range(5135,5135+total_num_faults)),fault_names):\n",
    "    fault_dict[fault_num] = [oq_ref_num,fault_name]\n",
    "    \n",
    "print(fault_dict)"
   ]
  },
  {
   "cell_type": "code",
   "execution_count": null,
   "metadata": {
    "ExecuteTime": {
     "end_time": "2021-01-19T20:43:08.916072Z",
     "start_time": "2021-01-19T20:42:36.543Z"
    },
    "deletable": false,
    "editable": false,
    "run_control": {
     "frozen": true
    }
   },
   "outputs": [],
   "source": [
    "cmds = []\n",
    "for k,v in fault_dict.items():\n",
    "    cmds.append('oq export realizations '+str(v[0])+' --exports csv && oq export fullreport '+str(v[0])+' --exports rst &&')\n",
    "\n",
    "print(*cmds)"
   ]
  },
  {
   "cell_type": "markdown",
   "metadata": {},
   "source": [
    "# Plot mean hazard curve for each fault"
   ]
  },
  {
   "cell_type": "code",
   "execution_count": null,
   "metadata": {
    "ExecuteTime": {
     "end_time": "2021-01-19T20:43:08.917037Z",
     "start_time": "2021-01-19T20:42:36.545Z"
    },
    "deletable": false,
    "editable": false,
    "run_control": {
     "frozen": true
    }
   },
   "outputs": [],
   "source": [
    "run_dir_num = 'Run2'"
   ]
  },
  {
   "cell_type": "code",
   "execution_count": null,
   "metadata": {
    "ExecuteTime": {
     "end_time": "2021-01-19T20:43:08.919028Z",
     "start_time": "2021-01-19T20:42:36.547Z"
    },
    "deletable": false,
    "editable": false,
    "run_control": {
     "frozen": true
    }
   },
   "outputs": [],
   "source": [
    "results_topdir = os.path.join(proj_dir,run_dir_num,'results')"
   ]
  },
  {
   "cell_type": "code",
   "execution_count": null,
   "metadata": {
    "ExecuteTime": {
     "end_time": "2021-01-19T20:43:08.921034Z",
     "start_time": "2021-01-19T20:42:36.549Z"
    },
    "deletable": false,
    "editable": false,
    "run_control": {
     "frozen": true
    },
    "scrolled": false
   },
   "outputs": [],
   "source": [
    "os.chdir(results_topdir)\n",
    "ftsize = 16\n",
    "ver='3.10'\n",
    "ftsize = 16\n",
    "axis_bounds = [0.001,1,0.00001,0.02]\n",
    "x_ticks = [0.001,0.01,0.1,1] #and labels\n",
    "y_ticks = [0.00001,0.0001,0.001,0.01] #and labels\n",
    "\n",
    "desired_periods_plotting = {}\n",
    "for per_label,per in plotting_periods.items():\n",
    "    if per in desired_periods:\n",
    "        desired_periods_plotting[per_label] = per\n",
    "\n",
    "for per_label,per in desired_periods_plotting.items():\n",
    "\n",
    "    hcm = 'hazard_curve-mean'\n",
    "\n",
    "    plt.figure(figsize=[10,12])\n",
    "    sf = ScalarFormatter()\n",
    "    sf.set_scientific(False)\n",
    "    sf.set_powerlimits((-0.000001, 0.000001))\n",
    "    from cycler import cycler\n",
    "\n",
    "    color_cycler = cycler('color', [plt.get_cmap('jet')(i/13) for i in range(13)] ) \n",
    "\n",
    "    new_cycler = cycler('linestyle', ['-', '--', ':']) * color_cycler\n",
    "\n",
    "    plt.rc('axes', prop_cycle = new_cycler )\n",
    "\n",
    "    df_fault_hazard_curve = pd.DataFrame()\n",
    "\n",
    "    for k,v in fault_dict.items():\n",
    "\n",
    "        run_ref_num = str(v[0])\n",
    "        fault_label = v[1]\n",
    "        filename = glob.glob(hcm + '-' + per + '_' + run_ref_num + '.csv')\n",
    "\n",
    "        accel_master_list, aep_master_list, poe_master_list = read_mean_quantile_outcsv(filetype, filename, investigation_time,ver=ver)\n",
    "\n",
    "        acchdr = per+\"_accel\"\n",
    "        aephdr = per+\"_aep\"\n",
    "\n",
    "        acceleration = accel_master_list[0]\n",
    "        aep = aep_master_list[0]\n",
    "\n",
    "        if k ==1:\n",
    "            df_fault_hazard_curve['Accel'] = acceleration\n",
    "            df_fault_hazard_curve[fault_label] = aep\n",
    "        else:\n",
    "            df_fault_hazard_curve[fault_label] = aep\n",
    "\n",
    "        from textwrap import fill\n",
    "        this_label = fill(fault_label, 20)\n",
    "\n",
    "\n",
    "        plt.loglog(acceleration,aep, label=this_label, linewidth=2)\n",
    "\n",
    "        \n",
    "    filename2_mean = glob.glob(hcm + '-' + per + '_5036.csv')\n",
    "    filetype2 = 'hazard_curve-mean'\n",
    "    print(filename2_mean)\n",
    "    accel_master_list, aep_master_list, poe_master_list = read_mean_quantile_outcsv(filetype2, filename2_mean, investigation_time, ver='3.10')\n",
    "\n",
    "    acceleration_mean = accel_master_list[0]\n",
    "    aep_mean = aep_master_list[0]\n",
    "\n",
    "    this_label = fill('Mean from all sources', 20)\n",
    "    \n",
    "    plt.loglog(acceleration_mean,aep_mean, label='Mean from all sources',linewidth=3, color='k',linestyle='solid')    \n",
    "        \n",
    "        \n",
    "    \n",
    "    df_fault_hazard_curve.set_index('Accel',inplace=True)\n",
    "    display(df_fault_hazard_curve)\n",
    "    plot_OBE_SEE_PCE(return_periods,ftsize)\n",
    "\n",
    "\n",
    "    outfilename = 'mean_hazard_curves_faults'+ per_label + '.png'\n",
    "    plt.title('Fault Sources', fontsize=ftsize+4, weight='heavy')\n",
    "    plt.xlabel(\"Acceleration (g)\", weight='heavy', fontsize=ftsize)\n",
    "    plt.ylabel(\"Annual Exceedence Probability\", weight='heavy', fontsize=ftsize)\n",
    "    plt.grid(True, which='both')\n",
    "    plt.axis(axis_bounds)\n",
    "    plt.xticks(x_ticks,x_ticks, fontsize=ftsize)\n",
    "    plt.yticks(y_ticks,y_ticks, fontsize=ftsize) \n",
    "    plt.legend(prop={'size': ftsize-6}, edgecolor='inherit', borderpad=0.5,ncol=2)\n",
    "    plt.savefig(os.path.join(figure_dir,outfilename),format='PNG', dpi=300, bbox_inches='tight', pad_inches=0.1)"
   ]
  },
  {
   "cell_type": "code",
   "execution_count": null,
   "metadata": {
    "ExecuteTime": {
     "end_time": "2021-01-19T20:43:08.922022Z",
     "start_time": "2021-01-19T20:42:36.551Z"
    },
    "deletable": false,
    "editable": false,
    "run_control": {
     "frozen": true
    }
   },
   "outputs": [],
   "source": [
    "run_dir_num = 'Run1'"
   ]
  },
  {
   "cell_type": "code",
   "execution_count": null,
   "metadata": {},
   "outputs": [],
   "source": []
  }
 ],
 "metadata": {
  "kernelspec": {
   "display_name": "deathstar38",
   "language": "python",
   "name": "deathstar"
  },
  "language_info": {
   "codemirror_mode": {
    "name": "ipython",
    "version": 3
   },
   "file_extension": ".py",
   "mimetype": "text/x-python",
   "name": "python",
   "nbconvert_exporter": "python",
   "pygments_lexer": "ipython3",
   "version": "3.8.5"
  },
  "toc": {
   "base_numbering": 1,
   "nav_menu": {},
   "number_sections": true,
   "sideBar": true,
   "skip_h1_title": false,
   "title_cell": "Table of Contents",
   "title_sidebar": "Contents",
   "toc_cell": false,
   "toc_position": {
    "height": "calc(100% - 180px)",
    "left": "10px",
    "top": "150px",
    "width": "280px"
   },
   "toc_section_display": true,
   "toc_window_display": true
  },
  "varInspector": {
   "cols": {
    "lenName": 16,
    "lenType": 16,
    "lenVar": 40
   },
   "kernels_config": {
    "python": {
     "delete_cmd_postfix": "",
     "delete_cmd_prefix": "del ",
     "library": "var_list.py",
     "varRefreshCmd": "print(var_dic_list())"
    },
    "r": {
     "delete_cmd_postfix": ") ",
     "delete_cmd_prefix": "rm(",
     "library": "var_list.r",
     "varRefreshCmd": "cat(var_dic_list()) "
    }
   },
   "types_to_exclude": [
    "module",
    "function",
    "builtin_function_or_method",
    "instance",
    "_Feature"
   ],
   "window_display": false
  }
 },
 "nbformat": 4,
 "nbformat_minor": 4
}
